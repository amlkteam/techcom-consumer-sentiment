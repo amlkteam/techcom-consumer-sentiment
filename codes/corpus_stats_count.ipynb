{
 "cells": [
  {
   "cell_type": "code",
   "execution_count": 2,
   "metadata": {},
   "outputs": [],
   "source": [
    "import pandas as pd"
   ]
  },
  {
   "cell_type": "code",
   "execution_count": 8,
   "metadata": {},
   "outputs": [],
   "source": [
    "folderpath = r\"C:\\Users\\gen80\\OneDrive\\Documents\\MDSlectures\\COLX_523_advanced_corp_ling\\COLX523_SH_VT_AL\\codes\\tidied_csv\\5fields\\\\\""
   ]
  },
  {
   "cell_type": "code",
   "execution_count": 15,
   "metadata": {},
   "outputs": [
    {
     "data": {
      "text/html": [
       "<div>\n",
       "<style scoped>\n",
       "    .dataframe tbody tr th:only-of-type {\n",
       "        vertical-align: middle;\n",
       "    }\n",
       "\n",
       "    .dataframe tbody tr th {\n",
       "        vertical-align: top;\n",
       "    }\n",
       "\n",
       "    .dataframe thead th {\n",
       "        text-align: right;\n",
       "    }\n",
       "</style>\n",
       "<table border=\"1\" class=\"dataframe\">\n",
       "  <thead>\n",
       "    <tr style=\"text-align: right;\">\n",
       "      <th></th>\n",
       "      <th>0</th>\n",
       "      <th>1</th>\n",
       "      <th>2</th>\n",
       "      <th>3</th>\n",
       "      <th>4</th>\n",
       "    </tr>\n",
       "  </thead>\n",
       "  <tbody>\n",
       "    <tr>\n",
       "      <th>0</th>\n",
       "      <td>February 25, 2020</td>\n",
       "      <td>4.480000e+15</td>\n",
       "      <td># 自闭日记 1. 我宝贵的休息时间在干嘛呢， 和amazon吵吵， 和hsbc吵吵， 和h...</td>\n",
       "      <td>zh</td>\n",
       "      <td>{'id': 1762825882, 'screen_name': '一木成零', 'pro...</td>\n",
       "    </tr>\n",
       "    <tr>\n",
       "      <th>1</th>\n",
       "      <td>February 6, 2020</td>\n",
       "      <td>4.470000e+15</td>\n",
       "      <td>#197万只假飘安口罩流入湖南市场# 加拿大amazon买不着，女友在美国amazon买的，...</td>\n",
       "      <td>zh</td>\n",
       "      <td>{'id': 1364250233, 'screen_name': '萝卜泡泡有一只胖胖的咖...</td>\n",
       "    </tr>\n",
       "    <tr>\n",
       "      <th>2</th>\n",
       "      <td>February 2, 2020</td>\n",
       "      <td>4.470000e+15</td>\n",
       "      <td>#amazon 有些地方，一辈子总要来一次，当然不见得还要再来，我说的就是亚马逊雨林。 亚马...</td>\n",
       "      <td>zh</td>\n",
       "      <td>{'id': 1694601031, 'screen_name': '魔都莎曼萨', 'pr...</td>\n",
       "    </tr>\n",
       "    <tr>\n",
       "      <th>3</th>\n",
       "      <td>February 29, 2020</td>\n",
       "      <td>4.480000e+15</td>\n",
       "      <td>#Amazon# 这部最新自制原创 #科幻# 美剧 #TALES FROM THE LOOP...</td>\n",
       "      <td>zh</td>\n",
       "      <td>{'id': 1914675127, 'screen_name': 'Qrious乔治', ...</td>\n",
       "    </tr>\n",
       "    <tr>\n",
       "      <th>4</th>\n",
       "      <td>February 2, 2020</td>\n",
       "      <td>4.470000e+15</td>\n",
       "      <td>#Amazon亚马逊世界总部# (来自 @安迪樊AndyFan 的一直播 下载地址 网页链接...</td>\n",
       "      <td>zh</td>\n",
       "      <td>{'id': 1400228952, 'screen_name': '方冰老师', 'pro...</td>\n",
       "    </tr>\n",
       "  </tbody>\n",
       "</table>\n",
       "</div>"
      ],
      "text/plain": [
       "                   0             1  \\\n",
       "0  February 25, 2020  4.480000e+15   \n",
       "1   February 6, 2020  4.470000e+15   \n",
       "2   February 2, 2020  4.470000e+15   \n",
       "3  February 29, 2020  4.480000e+15   \n",
       "4   February 2, 2020  4.470000e+15   \n",
       "\n",
       "                                                   2   3  \\\n",
       "0  # 自闭日记 1. 我宝贵的休息时间在干嘛呢， 和amazon吵吵， 和hsbc吵吵， 和h...  zh   \n",
       "1  #197万只假飘安口罩流入湖南市场# 加拿大amazon买不着，女友在美国amazon买的，...  zh   \n",
       "2  #amazon 有些地方，一辈子总要来一次，当然不见得还要再来，我说的就是亚马逊雨林。 亚马...  zh   \n",
       "3  #Amazon# 这部最新自制原创 #科幻# 美剧 #TALES FROM THE LOOP...  zh   \n",
       "4  #Amazon亚马逊世界总部# (来自 @安迪樊AndyFan 的一直播 下载地址 网页链接...  zh   \n",
       "\n",
       "                                                   4  \n",
       "0  {'id': 1762825882, 'screen_name': '一木成零', 'pro...  \n",
       "1  {'id': 1364250233, 'screen_name': '萝卜泡泡有一只胖胖的咖...  \n",
       "2  {'id': 1694601031, 'screen_name': '魔都莎曼萨', 'pr...  \n",
       "3  {'id': 1914675127, 'screen_name': 'Qrious乔治', ...  \n",
       "4  {'id': 1400228952, 'screen_name': '方冰老师', 'pro...  "
      ]
     },
     "execution_count": 15,
     "metadata": {},
     "output_type": "execute_result"
    }
   ],
   "source": [
    "Amazon_df = pd.read_csv(folderpath+\"Amazon_weibo_tidied2.csv\",header=None)\n",
    "Amazon_df.head()"
   ]
  },
  {
   "cell_type": "code",
   "execution_count": 29,
   "metadata": {},
   "outputs": [
    {
     "data": {
      "text/html": [
       "<div>\n",
       "<style scoped>\n",
       "    .dataframe tbody tr th:only-of-type {\n",
       "        vertical-align: middle;\n",
       "    }\n",
       "\n",
       "    .dataframe tbody tr th {\n",
       "        vertical-align: top;\n",
       "    }\n",
       "\n",
       "    .dataframe thead th {\n",
       "        text-align: right;\n",
       "    }\n",
       "</style>\n",
       "<table border=\"1\" class=\"dataframe\">\n",
       "  <thead>\n",
       "    <tr style=\"text-align: right;\">\n",
       "      <th></th>\n",
       "      <th>0</th>\n",
       "      <th>1</th>\n",
       "      <th>2</th>\n",
       "      <th>3</th>\n",
       "      <th>4</th>\n",
       "    </tr>\n",
       "  </thead>\n",
       "  <tbody>\n",
       "    <tr>\n",
       "      <th>0</th>\n",
       "      <td>March 2, 2020</td>\n",
       "      <td>4.478170e+15</td>\n",
       "      <td>TXT组合超话 【200302 脸书】官方脸书更新 放学后活动（18/26）</td>\n",
       "      <td>zh</td>\n",
       "      <td>{'id': 6933837821, 'screen_name': 'TXT记录库', 'p...</td>\n",
       "    </tr>\n",
       "    <tr>\n",
       "      <th>1</th>\n",
       "      <td>February 23, 2020</td>\n",
       "      <td>4.475240e+15</td>\n",
       "      <td>&amp;quot;脸书”和“推特”的政治立场不要听公司自己说，只要看他们的实际行动就知道了。“推特...</td>\n",
       "      <td>zh</td>\n",
       "      <td>{'id': 2197512460, 'screen_name': '鋆言天下', 'pro...</td>\n",
       "    </tr>\n",
       "    <tr>\n",
       "      <th>2</th>\n",
       "      <td>February 23, 2020</td>\n",
       "      <td>4.475080e+15</td>\n",
       "      <td>AB6IX超话 现在韩国青瓦台上对于韩国演艺人员海外演唱会和粉丝见面会进行延期或取消的請願，...</td>\n",
       "      <td>zh</td>\n",
       "      <td>{'id': 6047318141, 'screen_name': '找回自我pin', '...</td>\n",
       "    </tr>\n",
       "    <tr>\n",
       "      <th>3</th>\n",
       "      <td>February 21, 2020</td>\n",
       "      <td>4.474540e+15</td>\n",
       "      <td>#C罗# 如果你叫C罗，那么发一条推特就可以让你的钱包多出一笔巨款。根据国外著名数据网站Op...</td>\n",
       "      <td>zh</td>\n",
       "      <td>{'id': 1652507102, 'screen_name': '丹丹聊足球', 'pr...</td>\n",
       "    </tr>\n",
       "    <tr>\n",
       "      <th>4</th>\n",
       "      <td>February 2, 2020</td>\n",
       "      <td>4.467570e+15</td>\n",
       "      <td>邓伦超话 #邓伦香蜜沉沉烬如霜# 刚刚，百度资讯指数统计出2017—2019年十大霸屏爆剧，...</td>\n",
       "      <td>zh</td>\n",
       "      <td>{'id': 5653318570, 'screen_name': '追星蜀黎', 'pro...</td>\n",
       "    </tr>\n",
       "  </tbody>\n",
       "</table>\n",
       "</div>"
      ],
      "text/plain": [
       "                   0             1  \\\n",
       "0      March 2, 2020  4.478170e+15   \n",
       "1  February 23, 2020  4.475240e+15   \n",
       "2  February 23, 2020  4.475080e+15   \n",
       "3  February 21, 2020  4.474540e+15   \n",
       "4   February 2, 2020  4.467570e+15   \n",
       "\n",
       "                                                   2   3  \\\n",
       "0             TXT组合超话 【200302 脸书】官方脸书更新 放学后活动（18/26）  zh   \n",
       "1  &quot;脸书”和“推特”的政治立场不要听公司自己说，只要看他们的实际行动就知道了。“推特...  zh   \n",
       "2  AB6IX超话 现在韩国青瓦台上对于韩国演艺人员海外演唱会和粉丝见面会进行延期或取消的請願，...  zh   \n",
       "3  #C罗# 如果你叫C罗，那么发一条推特就可以让你的钱包多出一笔巨款。根据国外著名数据网站Op...  zh   \n",
       "4  邓伦超话 #邓伦香蜜沉沉烬如霜# 刚刚，百度资讯指数统计出2017—2019年十大霸屏爆剧，...  zh   \n",
       "\n",
       "                                                   4  \n",
       "0  {'id': 6933837821, 'screen_name': 'TXT记录库', 'p...  \n",
       "1  {'id': 2197512460, 'screen_name': '鋆言天下', 'pro...  \n",
       "2  {'id': 6047318141, 'screen_name': '找回自我pin', '...  \n",
       "3  {'id': 1652507102, 'screen_name': '丹丹聊足球', 'pr...  \n",
       "4  {'id': 5653318570, 'screen_name': '追星蜀黎', 'pro...  "
      ]
     },
     "execution_count": 29,
     "metadata": {},
     "output_type": "execute_result"
    }
   ],
   "source": [
    "Apple_df = pd.read_csv(folderpath+\"Apple_weibo_tidied.csv\",header=None,skiprows = 1)\n",
    "Microsoft_df = pd.read_csv(folderpath+\"Microsoft_weibo_tidied.csv\",header=None, skiprows =1)\n",
    "Facebook_df = pd.read_csv(folderpath+\"Facebook_weibo_tidied.csv\",header=None)\n",
    "Microsoft_df.head()\n",
    "Facebook_df.head()"
   ]
  },
  {
   "cell_type": "code",
   "execution_count": 19,
   "metadata": {},
   "outputs": [
    {
     "data": {
      "text/plain": [
       "78813"
      ]
     },
     "execution_count": 19,
     "metadata": {},
     "output_type": "execute_result"
    }
   ],
   "source": [
    "\n",
    "Amazon_df[2]=Amazon_df[2].astype(\"str\")\n",
    "sum(Amazon_df[2].apply(lambda x:len(x)))\n",
    "#Amazon_df[2][0]"
   ]
  },
  {
   "cell_type": "code",
   "execution_count": 18,
   "metadata": {},
   "outputs": [],
   "source": [
    "def get_textlen(df_col):\n",
    "    df_col=df_col.astype(\"str\")\n",
    "    return sum(df_col.apply(lambda x:len(x)))"
   ]
  },
  {
   "cell_type": "code",
   "execution_count": 21,
   "metadata": {},
   "outputs": [
    {
     "data": {
      "text/plain": [
       "55119"
      ]
     },
     "execution_count": 21,
     "metadata": {},
     "output_type": "execute_result"
    }
   ],
   "source": [
    "get_textlen(Apple_df[2])"
   ]
  },
  {
   "cell_type": "code",
   "execution_count": 28,
   "metadata": {},
   "outputs": [
    {
     "data": {
      "text/plain": [
       "30095"
      ]
     },
     "execution_count": 28,
     "metadata": {},
     "output_type": "execute_result"
    }
   ],
   "source": [
    "get_textlen(Microsoft_df[2])"
   ]
  },
  {
   "cell_type": "code",
   "execution_count": 30,
   "metadata": {},
   "outputs": [
    {
     "data": {
      "text/plain": [
       "49021"
      ]
     },
     "execution_count": 30,
     "metadata": {},
     "output_type": "execute_result"
    }
   ],
   "source": [
    "get_textlen(Facebook_df[2])"
   ]
  },
  {
   "cell_type": "code",
   "execution_count": 35,
   "metadata": {},
   "outputs": [
    {
     "data": {
      "text/plain": [
       "213048"
      ]
     },
     "execution_count": 35,
     "metadata": {},
     "output_type": "execute_result"
    }
   ],
   "source": [
    "78813+55119+30095+49021"
   ]
  },
  {
   "cell_type": "code",
   "execution_count": 31,
   "metadata": {},
   "outputs": [
    {
     "data": {
      "text/plain": [
       "529"
      ]
     },
     "execution_count": 31,
     "metadata": {},
     "output_type": "execute_result"
    }
   ],
   "source": [
    "len(Facebook_df)"
   ]
  },
  {
   "cell_type": "code",
   "execution_count": 32,
   "metadata": {},
   "outputs": [
    {
     "data": {
      "text/plain": [
       "558"
      ]
     },
     "execution_count": 32,
     "metadata": {},
     "output_type": "execute_result"
    }
   ],
   "source": [
    "len(Apple_df)"
   ]
  },
  {
   "cell_type": "code",
   "execution_count": 33,
   "metadata": {},
   "outputs": [
    {
     "data": {
      "text/plain": [
       "1220"
      ]
     },
     "execution_count": 33,
     "metadata": {},
     "output_type": "execute_result"
    }
   ],
   "source": [
    "len(Amazon_df)"
   ]
  },
  {
   "cell_type": "code",
   "execution_count": 34,
   "metadata": {},
   "outputs": [
    {
     "data": {
      "text/plain": [
       "377"
      ]
     },
     "execution_count": 34,
     "metadata": {},
     "output_type": "execute_result"
    }
   ],
   "source": [
    "len(Microsoft_df)"
   ]
  },
  {
   "cell_type": "code",
   "execution_count": 36,
   "metadata": {},
   "outputs": [
    {
     "data": {
      "text/plain": [
       "2684"
      ]
     },
     "execution_count": 36,
     "metadata": {},
     "output_type": "execute_result"
    }
   ],
   "source": [
    "529+558+1220+377"
   ]
  },
  {
   "cell_type": "code",
   "execution_count": null,
   "metadata": {},
   "outputs": [],
   "source": []
  }
 ],
 "metadata": {
  "kernelspec": {
   "display_name": "Python 3",
   "language": "python",
   "name": "python3"
  },
  "language_info": {
   "codemirror_mode": {
    "name": "ipython",
    "version": 3
   },
   "file_extension": ".py",
   "mimetype": "text/x-python",
   "name": "python",
   "nbconvert_exporter": "python",
   "pygments_lexer": "ipython3",
   "version": "3.7.3"
  }
 },
 "nbformat": 4,
 "nbformat_minor": 2
}
