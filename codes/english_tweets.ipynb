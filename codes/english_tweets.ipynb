{
 "cells": [
  {
   "cell_type": "code",
   "execution_count": 1,
   "metadata": {},
   "outputs": [],
   "source": [
    "import json\n",
    "import csv\n",
    "import tweepy\n",
    "import re"
   ]
  },
  {
   "cell_type": "code",
   "execution_count": null,
   "metadata": {},
   "outputs": [],
   "source": [
    "import tweepy\n",
    "import csv\n",
    "import json\n",
    "import unicodedata\n",
    "    \n",
    "consumer_key = 'cROcJDx7a5fD8aXNjb7WuLMF3'\n",
    "consumer_secret = 'L5FvTH3jVGOzpBmwXeTKIsYp5z1AH1hF2OEIAb3izwPjJjFxDP'\n",
    "access_key = '1022936598-m2IKZo3RdlJOA7sV0OBnGADpExhBDUQVQILq8sL'\n",
    "access_secret  = 'fxC7VK1oE0l8tHRRq2n53q3mHmXJiPF4Juy3j6WwwtU6G'\n",
    "\n",
    "auth = tweepy.OAuthHandler(consumer_key, consumer_secret)\n",
    "api = tweepy.API(auth, wait_on_rate_limit=True, wait_on_rate_limit_notify=True)\n",
    "\n",
    "tweets_info_results = []\n",
    "# tweety Cursor makes it possible to get more that 100 tweets. When i set items(6000), it iterates 60 times and during each iteration it collects 100 tweets\n",
    "for tweet in tweepy.Cursor(api.search, q='#Apple OR iphone',lang = \"en\",rpp=100, exclude = \"retweets\", tweet_mode='extended').items(60000):\n",
    "    tweets_info = dict()\n",
    "    if not tweet._json['is_quote_status']:\n",
    "# Exclude verified accounts\n",
    "        if tweet._json[\"user\"][\"verified\"] == True:\n",
    "            continue\n",
    "        else:\n",
    "            tweets_info['created_at'] = tweet._json[\"created_at\"]\n",
    "            tweets_info['tweet_id'] = tweet._json[\"id\"]\n",
    "            tweets_info['lang'] = tweet._json[\"lang\"]\n",
    "            tweets_info['user_info'] = tweet._json[\"user\"] \n",
    "            tweets_info['text'] = (unicodedata.normalize('NFKD', tweet._json['full_text']).encode('ascii','ignore')).decode('utf8')\n",
    "    if len(tweets_info) > 0: \n",
    "        tweets_info_results.append(tweets_info)\n",
    "# Save in csv file        \n",
    "with open('apple2.csv', 'a', newline='', encoding='utf-8') as csvfile:\n",
    "    fieldnames = [ 'tweet_id','created_at','lang','text','user_info']\n",
    "    writer = csv.DictWriter(csvfile, fieldnames=fieldnames)\n",
    "    for tweets_info in tweets_info_results:\n",
    "        writer.writerow(tweets_info)"
   ]
  }
 ],
 "metadata": {
  "kernelspec": {
   "display_name": "Python 3",
   "language": "python",
   "name": "python3"
  },
  "language_info": {
   "codemirror_mode": {
    "name": "ipython",
    "version": 3
   },
   "file_extension": ".py",
   "mimetype": "text/x-python",
   "name": "python",
   "nbconvert_exporter": "python",
   "pygments_lexer": "ipython3",
   "version": "3.7.6"
  }
 },
 "nbformat": 4,
 "nbformat_minor": 4
}
