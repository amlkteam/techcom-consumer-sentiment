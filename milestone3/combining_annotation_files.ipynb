{
 "cells": [
  {
   "cell_type": "code",
   "execution_count": 1,
   "metadata": {},
   "outputs": [],
   "source": [
    "# import statements\n",
    "import pandas as pd"
   ]
  },
  {
   "cell_type": "code",
   "execution_count": null,
   "metadata": {},
   "outputs": [],
   "source": [
    "# insert filename to read pandas df + look at the first five rows\n",
    "annotator_1 = pd.read_csv('file-path-here.csv')\n",
    "annotator_1.head()"
   ]
  },
  {
   "cell_type": "code",
   "execution_count": null,
   "metadata": {},
   "outputs": [],
   "source": [
    "# insert filename to read pandas df + look at the first five rows\n",
    "annotator_2 = pd.read_csv('file-path-here.csv')\n",
    "annotator_2.head()"
   ]
  },
  {
   "cell_type": "code",
   "execution_count": null,
   "metadata": {},
   "outputs": [],
   "source": [
    "final_df = annotator_1.copy(deep = True)\n",
    "final_df.head()"
   ]
  },
  {
   "cell_type": "code",
   "execution_count": null,
   "metadata": {},
   "outputs": [],
   "source": [
    "# fill in annnotation column name \n",
    "annotation_col_name = \"fill-in-name-here\"\n",
    "\n",
    "final_df[annotation_col_name] = 'blank'\n",
    "final_df.head()"
   ]
  },
  {
   "cell_type": "code",
   "execution_count": 3,
   "metadata": {},
   "outputs": [],
   "source": [
    "n = final_df.columns.get_loc(annotation_col_name)\n",
    "n"
   ]
  },
  {
   "cell_type": "code",
   "execution_count": null,
   "metadata": {},
   "outputs": [],
   "source": [
    "for i in range(len(annotator_1)):\n",
    "    if annotator_1.iloc[i, n] == annotator_2.iloc[i, n]:\n",
    "        final_df.iloc[i, n] = annotator_1.iloc[i, n]\n",
    "    elif annotator_1.iloc[i, n] != annotator_2.iloc[i, n]:\n",
    "        an1 = annotator_1.iloc[i, n]\n",
    "        an2 = annotator_2.iloc[i, n]\n",
    "        if an1 == \"Irrelevant\" or an2 == \"Irrelevant\":\n",
    "            final = \"Irrelevant\"\n",
    "        elif an1 == \"Neutral\" or an2 == \"Neutral\":\n",
    "            final = \"Neutral\"\n",
    "        elif an1.startswith(\"Very\") or an2.startswith(\"Very\"):\n",
    "            if an1[5] == \"N\" or an2[5] == \"N\":\n",
    "                final = \"Negative\"\n",
    "            if an1[5] == \"P\" or an2[5] == \"P\":\n",
    "                final = \"Positive\"\n",
    "        elif an1 == \"Negative\" and an2 == \"Positive\" or an1 == \"Positive\" and an2 == \"Negative\":\n",
    "            final = \"Neutral\"\n",
    "        final_df.iloc[i, n] = final"
   ]
  },
  {
   "cell_type": "code",
   "execution_count": null,
   "metadata": {},
   "outputs": [],
   "source": [
    "# look at the final df\n",
    "final_df.head()"
   ]
  },
  {
   "cell_type": "code",
   "execution_count": null,
   "metadata": {},
   "outputs": [],
   "source": [
    "# change the name of your final file! \n",
    "final_df.to_csv(\"your_file_name_here.csv\")"
   ]
  }
 ],
 "metadata": {
  "kernelspec": {
   "display_name": "Python 3",
   "language": "python",
   "name": "python3"
  },
  "language_info": {
   "codemirror_mode": {
    "name": "ipython",
    "version": 3
   },
   "file_extension": ".py",
   "mimetype": "text/x-python",
   "name": "python",
   "nbconvert_exporter": "python",
   "pygments_lexer": "ipython3",
   "version": "3.6.8"
  }
 },
 "nbformat": 4,
 "nbformat_minor": 2
}
