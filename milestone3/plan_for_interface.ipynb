{
 "cells": [
  {
   "cell_type": "markdown",
   "metadata": {},
   "source": [
    "# Plan for interface\n",
    "\n",
    "For our project, A Sentiment Analysis of Big Tech on Twitter and Weibo, our web interface will include two major parts. The first of these is a search function, where users can search for key terms and see tweets or Weibo posts containing those terms. The second of these involves the annotations, where users can select options from a number of categories including language (one of English, French, or Chinese), company (one of Facebook, Microsoft, Apple, or Amazon), and rating (one of Very Positive, Positive, Neutral, Negative, Very Negative, or Irrelevant) to see all the tweets that fit those categories. For example, this will allow users to see all Very Negative English tweets about Facebook, or simply all English tweets about Facebook. We chose these two options because they will allow users to understand our entire annotated corpus in a straightforward and easy-to-use way, and it allows for interactivity so that users will be able to explore what interests them about our corpus."
   ]
  }
 ],
 "metadata": {
  "kernelspec": {
   "display_name": "Python 3",
   "language": "python",
   "name": "python3"
  },
  "language_info": {
   "codemirror_mode": {
    "name": "ipython",
    "version": 3
   },
   "file_extension": ".py",
   "mimetype": "text/x-python",
   "name": "python",
   "nbconvert_exporter": "python",
   "pygments_lexer": "ipython3",
   "version": "3.6.8"
  }
 },
 "nbformat": 4,
 "nbformat_minor": 2
}
