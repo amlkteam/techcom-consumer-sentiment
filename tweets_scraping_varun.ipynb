{
 "cells": [
  {
   "cell_type": "code",
   "execution_count": 1,
   "metadata": {},
   "outputs": [],
   "source": [
    "import json\n",
    "import csv\n",
    "import tweepy\n",
    "import re"
   ]
  },
  {
   "cell_type": "code",
   "execution_count": 4,
   "metadata": {},
   "outputs": [
    {
     "name": "stderr",
     "output_type": "stream",
     "text": [
      "Rate limit reached. Sleeping for: 728\n",
      "Rate limit reached. Sleeping for: 727\n",
      "Rate limit reached. Sleeping for: 726\n",
      "Rate limit reached. Sleeping for: 726\n",
      "Rate limit reached. Sleeping for: 723\n",
      "Rate limit reached. Sleeping for: 726\n",
      "Rate limit reached. Sleeping for: 724\n",
      "Rate limit reached. Sleeping for: 726\n"
     ]
    }
   ],
   "source": [
    "import tweepy\n",
    "import csv\n",
    "import json\n",
    "import unicodedata\n",
    "    \n",
    "consumer_key = 'asnczCvhDQ01WjWyMtLWNfpbV'\n",
    "consumer_secret = 'HV6CoccQL3Us53g6ZQQCptflv8V4NHMvReh2goPhSjdcWPyZZt'\n",
    "access_key = '54511184-onbbTjSAtut8MFzh39Yhd6W9ok1LOTFPFMmvPewVw'\n",
    "access_secret  = 'D7OEueBl05LzVv0Tu93iHABiIwhiOVsaLPI46LSD77DV1'\n",
    "\n",
    "auth = tweepy.OAuthHandler(consumer_key, consumer_secret)\n",
    "api = tweepy.API(auth, wait_on_rate_limit=True, wait_on_rate_limit_notify=True)\n",
    "\n",
    "tweets_info_results = []\n",
    "for tweet in tweepy.Cursor(api.search, q='facebook',lang = \"en\",rpp=100, exclude = \"retweets\", tweet_mode='extended').items(60000):\n",
    "    tweets_info = dict()\n",
    "    if not tweet._json['is_quote_status']:\n",
    "        if tweet._json[\"user\"][\"verified\"] == True:\n",
    "            continue\n",
    "        else:\n",
    "            tweets_info['created_at'] = tweet._json[\"created_at\"]\n",
    "            tweets_info['tweet_id'] = tweet._json[\"id\"]\n",
    "            tweets_info['lang'] = tweet._json[\"lang\"]\n",
    "            tweets_info['user_info'] = tweet._json[\"user\"] \n",
    "            tweets_info['text'] = (unicodedata.normalize('NFKD', tweet._json['full_text']).encode('ascii','ignore')).decode('utf8')\n",
    "    if len(tweets_info) > 0: \n",
    "        tweets_info_results.append(tweets_info)\n",
    "        \n",
    "with open('t3bhjFacewithout.csv', 'a', newline='', encoding='utf-8') as csvfile:\n",
    "    fieldnames = [ 'tweet_id','created_at','lang','text','user_info']\n",
    "    writer = csv.DictWriter(csvfile, fieldnames=fieldnames)\n",
    "    for tweets_info in tweets_info_results:\n",
    "        writer.writerow(tweets_info)"
   ]
  }
 ],
 "metadata": {
  "kernelspec": {
   "display_name": "Python 3",
   "language": "python",
   "name": "python3"
  },
  "language_info": {
   "codemirror_mode": {
    "name": "ipython",
    "version": 3
   },
   "file_extension": ".py",
   "mimetype": "text/x-python",
   "name": "python",
   "nbconvert_exporter": "python",
   "pygments_lexer": "ipython3",
   "version": "3.7.4"
  }
 },
 "nbformat": 4,
 "nbformat_minor": 4
}
